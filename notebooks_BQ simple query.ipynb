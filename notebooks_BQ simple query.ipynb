{
 "cells": [
  {
   "cell_type": "markdown",
   "metadata": {},
   "source": [
    "# Full scan on 10B rows of Wikipedia logs"
   ]
  },
  {
   "cell_type": "code",
   "execution_count": 3,
   "metadata": {
    "codeCollapsed": false,
    "collapsed": false,
    "hiddenCell": false
   },
   "outputs": [
    {
     "data": {
      "text/html": [
       "\n",
       "    <div class=\"bqtv\" id=\"3_149682229901\"><table><tr><th>LANGUAGE</th><th>views</th></tr><tr><td>en</td><td>196486831</td></tr><tr><td>commons</td><td>26877756</td></tr><tr><td>es</td><td>15941763</td></tr><tr><td>de</td><td>13749028</td></tr><tr><td>it</td><td>10308749</td></tr><tr><td>fr</td><td>9602430</td></tr><tr><td>pt</td><td>6679953</td></tr><tr><td>ja</td><td>5079939</td></tr><tr><td>nl</td><td>4851370</td></tr><tr><td>ru</td><td>4696334</td></tr><tr><td>pl</td><td>4500819</td></tr><tr><td>sv</td><td>1386000</td></tr><tr><td>id</td><td>1266352</td></tr><tr><td>tr</td><td>1149478</td></tr><tr><td>vi</td><td>1091452</td></tr><tr><td>fi</td><td>916896</td></tr><tr><td>cs</td><td>862463</td></tr><tr><td>zh</td><td>826072</td></tr><tr><td>no</td><td>623952</td></tr><tr><td>hu</td><td>618110</td></tr><tr><td>ro</td><td>605330</td></tr><tr><td>da</td><td>569090</td></tr><tr><td>hr</td><td>567599</td></tr><tr><td>he</td><td>482142</td></tr><tr><td>ca</td><td>459584</td></tr></table></div>\n",
       "    <br />(rows: 302, time: 0.2s, cached, job: job_-101O3q6G7E4QU0eLAn2km43hoQ)<br />\n",
       "    <script>\n",
       "\n",
       "      require.config({\n",
       "        paths: {\n",
       "          d3: '//cdnjs.cloudflare.com/ajax/libs/d3/3.4.13/d3',\n",
       "          plotly: 'https://cdn.plot.ly/plotly-1.5.1.min.js?noext',\n",
       "          jquery: '//ajax.googleapis.com/ajax/libs/jquery/2.0.0/jquery.min'\n",
       "        },\n",
       "        map: {\n",
       "          '*': {\n",
       "            datalab: 'nbextensions/gcpdatalab'\n",
       "          }\n",
       "        },\n",
       "        shim: {\n",
       "          plotly: {\n",
       "            deps: ['d3', 'jquery'],\n",
       "            exports: 'plotly'\n",
       "          }\n",
       "        }\n",
       "      });\n",
       "\n",
       "      require(['datalab/charting', 'datalab/element!3_149682229901', 'base/js/events',\n",
       "          'datalab/style!/nbextensions/gcpdatalab/charting.css'],\n",
       "        function(charts, dom, events) {\n",
       "          charts.render('gcharts', dom, events, 'paged_table', [], {\"rows\": [{\"c\": [{\"v\": \"en\"}, {\"v\": 196486831}]}, {\"c\": [{\"v\": \"commons\"}, {\"v\": 26877756}]}, {\"c\": [{\"v\": \"es\"}, {\"v\": 15941763}]}, {\"c\": [{\"v\": \"de\"}, {\"v\": 13749028}]}, {\"c\": [{\"v\": \"it\"}, {\"v\": 10308749}]}, {\"c\": [{\"v\": \"fr\"}, {\"v\": 9602430}]}, {\"c\": [{\"v\": \"pt\"}, {\"v\": 6679953}]}, {\"c\": [{\"v\": \"ja\"}, {\"v\": 5079939}]}, {\"c\": [{\"v\": \"nl\"}, {\"v\": 4851370}]}, {\"c\": [{\"v\": \"ru\"}, {\"v\": 4696334}]}, {\"c\": [{\"v\": \"pl\"}, {\"v\": 4500819}]}, {\"c\": [{\"v\": \"sv\"}, {\"v\": 1386000}]}, {\"c\": [{\"v\": \"id\"}, {\"v\": 1266352}]}, {\"c\": [{\"v\": \"tr\"}, {\"v\": 1149478}]}, {\"c\": [{\"v\": \"vi\"}, {\"v\": 1091452}]}, {\"c\": [{\"v\": \"fi\"}, {\"v\": 916896}]}, {\"c\": [{\"v\": \"cs\"}, {\"v\": 862463}]}, {\"c\": [{\"v\": \"zh\"}, {\"v\": 826072}]}, {\"c\": [{\"v\": \"no\"}, {\"v\": 623952}]}, {\"c\": [{\"v\": \"hu\"}, {\"v\": 618110}]}, {\"c\": [{\"v\": \"ro\"}, {\"v\": 605330}]}, {\"c\": [{\"v\": \"da\"}, {\"v\": 569090}]}, {\"c\": [{\"v\": \"hr\"}, {\"v\": 567599}]}, {\"c\": [{\"v\": \"he\"}, {\"v\": 482142}]}, {\"c\": [{\"v\": \"ca\"}, {\"v\": 459584}]}], \"cols\": [{\"type\": \"string\", \"id\": \"LANGUAGE\", \"label\": \"LANGUAGE\"}, {\"type\": \"number\", \"id\": \"views\", \"label\": \"views\"}]},\n",
       "            {\n",
       "              pageSize: 25,\n",
       "              cssClassNames:  {\n",
       "                tableRow: 'gchart-table-row',\n",
       "                headerRow: 'gchart-table-headerrow',\n",
       "                oddTableRow: 'gchart-table-oddrow',\n",
       "                selectedTableRow: 'gchart-table-selectedrow',\n",
       "                hoverTableRow: 'gchart-table-hoverrow',\n",
       "                tableCell: 'gchart-table-cell',\n",
       "                headerCell: 'gchart-table-headercell',\n",
       "                rowNumberCell: 'gchart-table-rownumcell'\n",
       "              }\n",
       "            },\n",
       "            {source_index: 0, fields: 'LANGUAGE,views', legacy: 'true'},\n",
       "            0,\n",
       "            302);\n",
       "        }\n",
       "      );\n",
       "    </script>\n",
       "  "
      ],
      "text/plain": [
       "QueryResultsTable job_-101O3q6G7E4QU0eLAn2km43hoQ"
      ]
     },
     "execution_count": 3,
     "metadata": {},
     "output_type": "execute_result"
    }
   ],
   "source": [
    "%%%sql\n",
    "SELECT\n",
    "  LANGUAGE,\n",
    "  SUM(views) AS views\n",
    "FROM\n",
    "  [bigquery-samples:wikipedia_benchmark.Wiki10B]\n",
    "WHERE\n",
    "  REGEXP_MATCH(title,\n",
    "    \"G.*o.*o.*g\")\n",
    "GROUP BY\n",
    "  LANGUAGE\n",
    "ORDER BY\n",
    "  views DESC;"
   ]
  },
  {
   "cell_type": "code",
   "execution_count": null,
   "metadata": {
    "collapsed": true
   },
   "outputs": [],
   "source": []
  }
 ],
 "metadata": {
  "kernelspec": {
   "display_name": "Python 2",
   "language": "python",
   "name": "python2"
  },
  "language_info": {
   "codemirror_mode": {
    "name": "ipython",
    "version": 2
   },
   "file_extension": ".py",
   "mimetype": "text/x-python",
   "name": "python",
   "nbconvert_exporter": "python",
   "pygments_lexer": "ipython2",
   "version": "2.7.9"
  }
 },
 "nbformat": 4,
 "nbformat_minor": 2
}
